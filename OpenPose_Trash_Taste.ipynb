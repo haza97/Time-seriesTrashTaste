{
  "nbformat": 4,
  "nbformat_minor": 0,
  "metadata": {
    "colab": {
      "name": "OpenPose Trash Taste",
      "provenance": [],
      "collapsed_sections": []
    },
    "kernelspec": {
      "name": "python3",
      "display_name": "Python 3"
    },
    "accelerator": "GPU"
  },
  "cells": [
    {
      "cell_type": "code",
      "metadata": {
        "id": "FOdkDhb6ga6N"
      },
      "source": [
        "import os\n",
        "from os.path import exists, join, basename, splitext\n",
        "\n",
        "git_repo_url = 'https://github.com/CMU-Perceptual-Computing-Lab/openpose.git'\n",
        "project_name = splitext(basename(git_repo_url))[0]\n",
        "if not exists(project_name):\n",
        "  # see: https://github.com/CMU-Perceptual-Computing-Lab/openpose/issues/949\n",
        "  # install new CMake becaue of CUDA10\n",
        "  !wget -q https://cmake.org/files/v3.13/cmake-3.13.0-Linux-x86_64.tar.gz\n",
        "  !tar xfz cmake-3.13.0-Linux-x86_64.tar.gz --strip-components=1 -C /usr/local\n",
        "  # clone openpose\n",
        "  !git clone -q --depth 1 $git_repo_url\n",
        "  !sed -i 's/execute_process(COMMAND git checkout master WORKING_DIRECTORY ${CMAKE_SOURCE_DIR}\\/3rdparty\\/caffe)/execute_process(COMMAND git checkout f019d0dfe86f49d1140961f8c7dec22130c83154 WORKING_DIRECTORY ${CMAKE_SOURCE_DIR}\\/3rdparty\\/caffe)/g' openpose/CMakeLists.txt\n",
        "  # install system dependencies\n",
        "  !apt-get -qq install -y libatlas-base-dev libprotobuf-dev libleveldb-dev libsnappy-dev libhdf5-serial-dev protobuf-compiler libgflags-dev libgoogle-glog-dev liblmdb-dev opencl-headers ocl-icd-opencl-dev libviennacl-dev\n",
        "  # install python dependencies\n",
        "  !pip install -q youtube-dl\n",
        "  # build openpose\n",
        "  !cd openpose && rm -rf build || true && mkdir build && cd build && cmake .. && make -j`nproc`\n",
        "  \n",
        "from IPython.display import YouTubeVideo"
      ],
      "execution_count": null,
      "outputs": []
    },
    {
      "cell_type": "code",
      "metadata": {
        "colab": {
          "base_uri": "https://localhost:8080/"
        },
        "id": "PufHy4dURQPZ",
        "outputId": "2a0e52b3-c390-4250-bc36-44d8efe2835c"
      },
      "source": [
        "from google.colab import drive\n",
        "drive.mount('/content/drive')"
      ],
      "execution_count": null,
      "outputs": [
        {
          "output_type": "stream",
          "name": "stdout",
          "text": [
            "Mounted at /content/drive\n"
          ]
        }
      ]
    },
    {
      "cell_type": "code",
      "metadata": {
        "id": "oNASdyyiO65I",
        "colab": {
          "base_uri": "https://localhost:8080/"
        },
        "outputId": "b8196d03-c292-4737-80be-1c94d04e3925"
      },
      "source": [
        "#Save new video at /OpenPose/video number, save JSON at \n",
        "#Only keypoint skeleton\n",
        "!cd openpose && ./build/examples/openpose/openpose.bin --video /content/drive/MyDrive/TrashTasteProject/Samples/S8/S8.mp4 --write_json /content/drive/MyDrive/TrashTasteProject/OpenPose/S8/keypoints/ --write_video /content/drive/MyDrive/TrashTasteProject/OpenPose/S8/S8.mp4 --display 0 --keypoint_scale 0 --number_people_max 2 --no_gui_verbose false --write_images /content/drive/MyDrive/TrashTasteProject/OpenPose/S8/images/\n"
      ],
      "execution_count": null,
      "outputs": [
        {
          "output_type": "stream",
          "name": "stdout",
          "text": [
            "Starting OpenPose demo...\n",
            "Configuring OpenPose...\n",
            "Starting thread(s)...\n",
            "Auto-detecting all available GPUs... Detected 1 GPU(s), using 1 of them starting at GPU 0.\n",
            "ffmpeg version 3.4.8-0ubuntu0.2 Copyright (c) 2000-2020 the FFmpeg developers\n",
            "built with gcc 7 (Ubuntu 7.5.0-3ubuntu1~18.04)\n",
            "configuration: --prefix=/usr --extra-version=0ubuntu0.2 --toolchain=hardened --libdir=/usr/lib/x86_64-linux-gnu --incdir=/usr/include/x86_64-linux-gnu --enable-gpl --disable-stripping --enable-avresample --enable-avisynth --enable-gnutls --enable-ladspa --enable-libass --enable-libbluray --enable-libbs2b --enable-libcaca --enable-libcdio --enable-libflite --enable-libfontconfig --enable-libfreetype --enable-libfribidi --enable-libgme --enable-libgsm --enable-libmp3lame --enable-libmysofa --enable-libopenjpeg --enable-libopenmpt --enable-libopus --enable-libpulse --enable-librubberband --enable-librsvg --enable-libshine --enable-libsnappy --enable-libsoxr --enable-libspeex --enable-libssh --enable-libtheora --enable-libtwolame --enable-libvorbis --enable-libvpx --enable-libwavpack --enable-libwebp --enable-libx265 --enable-libxml2 --enable-libxvid --enable-libzmq --enable-libzvbi --enable-omx --enable-openal --enable-opengl --enable-sdl2 --enable-libdc1394 --enable-libdrm --enable-libiec61883 --enable-chromaprint --enable-frei0r --enable-libopencv --enable-libx264 --enable-shared\n",
            "libavutil      55. 78.100 / 55. 78.100\n",
            "libavcodec     57.107.100 / 57.107.100\n",
            "libavformat    57. 83.100 / 57. 83.100\n",
            "libavdevice    57. 10.100 / 57. 10.100\n",
            "libavfilter     6.107.100 /  6.107.100\n",
            "libavresample   3.  7.  0 /  3.  7.  0\n",
            "libswscale      4.  8.100 /  4.  8.100\n",
            "libswresample   2.  9.100 /  2.  9.100\n",
            "libpostproc    54.  7.100 / 54.  7.100\n",
            "Temporarily saving video frames as JPG images in: /content/drive/MyDrive/TrashTasteProject/OpenPose/S8/S8_r8904530ijyiopf9034jiop4g90j0yh795640h38j\n",
            "OpenPose demo successfully finished. Total time: 212.521820 seconds.\n",
            "JPG images temporarily generated in /content/drive/MyDrive/TrashTasteProject/OpenPose/S8/S8_r8904530ijyiopf9034jiop4g90j0yh795640h38j.\n",
            "Creating MP4 video out of JPG images by running:\n",
            "ffmpeg -y -framerate 30.000000 -i '/content/drive/MyDrive/TrashTasteProject/OpenPose/S8/S8_r8904530ijyiopf9034jiop4g90j0yh795640h38j/%12d_rendered.jpg' -c:v libx264 -pix_fmt yuv420p '/content/drive/MyDrive/TrashTasteProject/OpenPose/S8/S8.mp4'\n",
            "\n",
            "ffmpeg version 3.4.8-0ubuntu0.2 Copyright (c) 2000-2020 the FFmpeg developers\n",
            "  built with gcc 7 (Ubuntu 7.5.0-3ubuntu1~18.04)\n",
            "  configuration: --prefix=/usr --extra-version=0ubuntu0.2 --toolchain=hardened --libdir=/usr/lib/x86_64-linux-gnu --incdir=/usr/include/x86_64-linux-gnu --enable-gpl --disable-stripping --enable-avresample --enable-avisynth --enable-gnutls --enable-ladspa --enable-libass --enable-libbluray --enable-libbs2b --enable-libcaca --enable-libcdio --enable-libflite --enable-libfontconfig --enable-libfreetype --enable-libfribidi --enable-libgme --enable-libgsm --enable-libmp3lame --enable-libmysofa --enable-libopenjpeg --enable-libopenmpt --enable-libopus --enable-libpulse --enable-librubberband --enable-librsvg --enable-libshine --enable-libsnappy --enable-libsoxr --enable-libspeex --enable-libssh --enable-libtheora --enable-libtwolame --enable-libvorbis --enable-libvpx --enable-libwavpack --enable-libwebp --enable-libx265 --enable-libxml2 --enable-libxvid --enable-libzmq --enable-libzvbi --enable-omx --enable-openal --enable-opengl --enable-sdl2 --enable-libdc1394 --enable-libdrm --enable-libiec61883 --enable-chromaprint --enable-frei0r --enable-libopencv --enable-libx264 --enable-shared\n",
            "  libavutil      55. 78.100 / 55. 78.100\n",
            "  libavcodec     57.107.100 / 57.107.100\n",
            "  libavformat    57. 83.100 / 57. 83.100\n",
            "  libavdevice    57. 10.100 / 57. 10.100\n",
            "  libavfilter     6.107.100 /  6.107.100\n",
            "  libavresample   3.  7.  0 /  3.  7.  0\n",
            "  libswscale      4.  8.100 /  4.  8.100\n",
            "  libswresample   2.  9.100 /  2.  9.100\n",
            "  libpostproc    54.  7.100 / 54.  7.100\n",
            "Input #0, image2, from '/content/drive/MyDrive/TrashTasteProject/OpenPose/S8/S8_r8904530ijyiopf9034jiop4g90j0yh795640h38j/%12d_rendered.jpg':\n",
            "  Duration: 00:00:04.57, start: 0.000000, bitrate: N/A\n",
            "    Stream #0:0: Video: mjpeg, yuvj420p(pc, bt470bg/unknown/unknown), 1200x720 [SAR 1:1 DAR 5:3], 30 fps, 30 tbr, 30 tbn, 30 tbc\n",
            "Stream mapping:\n",
            "  Stream #0:0 -> #0:0 (mjpeg (native) -> h264 (libx264))\n",
            "Press [q] to stop, [?] for help\n",
            "\u001b[1;34m[swscaler @ 0x5629674a4000] \u001b[0m\u001b[0;33mdeprecated pixel format used, make sure you did set range correctly\n",
            "\u001b[0m\u001b[1;36m[libx264 @ 0x562966d73e00] \u001b[0musing SAR=1/1\n",
            "\u001b[1;36m[libx264 @ 0x562966d73e00] \u001b[0musing cpu capabilities: MMX2 SSE2Fast SSSE3 SSE4.2 AVX FMA3 BMI2 AVX2\n",
            "\u001b[1;36m[libx264 @ 0x562966d73e00] \u001b[0mprofile High, level 3.1\n",
            "\u001b[1;36m[libx264 @ 0x562966d73e00] \u001b[0m264 - core 152 r2854 e9a5903 - H.264/MPEG-4 AVC codec - Copyleft 2003-2017 - http://www.videolan.org/x264.html - options: cabac=1 ref=3 deblock=1:0:0 analyse=0x3:0x113 me=hex subme=7 psy=1 psy_rd=1.00:0.00 mixed_ref=1 me_range=16 chroma_me=1 trellis=1 8x8dct=1 cqm=0 deadzone=21,11 fast_pskip=1 chroma_qp_offset=-2 threads=3 lookahead_threads=1 sliced_threads=0 nr=0 decimate=1 interlaced=0 bluray_compat=0 constrained_intra=0 bframes=3 b_pyramid=2 b_adapt=1 b_bias=0 direct=1 weightb=1 open_gop=0 weightp=2 keyint=250 keyint_min=25 scenecut=40 intra_refresh=0 rc_lookahead=40 rc=crf mbtree=1 crf=23.0 qcomp=0.60 qpmin=0 qpmax=69 qpstep=4 ip_ratio=1.40 aq=1:1.00\n",
            "Output #0, mp4, to '/content/drive/MyDrive/TrashTasteProject/OpenPose/S8/S8.mp4':\n",
            "  Metadata:\n",
            "    encoder         : Lavf57.83.100\n",
            "    Stream #0:0: Video: h264 (libx264) (avc1 / 0x31637661), yuv420p, 1200x720 [SAR 1:1 DAR 5:3], q=-1--1, 30 fps, 15360 tbn, 30 tbc\n",
            "    Metadata:\n",
            "      encoder         : Lavc57.107.100 libx264\n",
            "    Side data:\n",
            "      cpb: bitrate max/min/avg: 0/0/0 buffer size: 0 vbv_delay: -1\n",
            "frame=  137 fps= 18 q=-1.0 Lsize=    1045kB time=00:00:04.46 bitrate=1917.2kbits/s speed=0.586x    \n",
            "video:1043kB audio:0kB subtitle:0kB other streams:0kB global headers:0kB muxing overhead: 0.234558%\n",
            "\u001b[1;36m[libx264 @ 0x562966d73e00] \u001b[0mframe I:1     Avg QP:21.60  size: 89345\n",
            "\u001b[1;36m[libx264 @ 0x562966d73e00] \u001b[0mframe P:36    Avg QP:23.67  size: 16928\n",
            "\u001b[1;36m[libx264 @ 0x562966d73e00] \u001b[0mframe B:100   Avg QP:30.21  size:  3685\n",
            "\u001b[1;36m[libx264 @ 0x562966d73e00] \u001b[0mconsecutive B-frames:  1.5%  2.9%  2.2% 93.4%\n",
            "\u001b[1;36m[libx264 @ 0x562966d73e00] \u001b[0mmb I  I16..4:  5.5% 55.4% 39.1%\n",
            "\u001b[1;36m[libx264 @ 0x562966d73e00] \u001b[0mmb P  I16..4:  0.6%  3.8%  1.4%  P16..4: 21.7% 13.5%  8.8%  0.0%  0.0%    skip:50.1%\n",
            "\u001b[1;36m[libx264 @ 0x562966d73e00] \u001b[0mmb B  I16..4:  0.1%  0.5%  0.2%  B16..8: 17.9%  4.7%  1.2%  direct: 1.1%  skip:74.4%  L0:43.1% L1:47.6% BI: 9.4%\n",
            "\u001b[1;36m[libx264 @ 0x562966d73e00] \u001b[0m8x8 transform intra:62.6% inter:66.4%\n",
            "\u001b[1;36m[libx264 @ 0x562966d73e00] \u001b[0mcoded y,uvDC,uvAC intra: 69.2% 71.2% 36.2% inter: 7.6% 8.5% 3.4%\n",
            "\u001b[1;36m[libx264 @ 0x562966d73e00] \u001b[0mi16 v,h,dc,p: 35% 24% 12% 30%\n",
            "\u001b[1;36m[libx264 @ 0x562966d73e00] \u001b[0mi8 v,h,dc,ddl,ddr,vr,hd,vl,hu: 23% 17% 13%  5%  8% 10% 11%  7%  6%\n",
            "\u001b[1;36m[libx264 @ 0x562966d73e00] \u001b[0mi4 v,h,dc,ddl,ddr,vr,hd,vl,hu: 29% 18% 11%  5%  8%  9%  8%  7%  5%\n",
            "\u001b[1;36m[libx264 @ 0x562966d73e00] \u001b[0mi8c dc,h,v,p: 43% 22% 25% 10%\n",
            "\u001b[1;36m[libx264 @ 0x562966d73e00] \u001b[0mWeighted P-Frames: Y:0.0% UV:0.0%\n",
            "\u001b[1;36m[libx264 @ 0x562966d73e00] \u001b[0mref P L0: 63.3% 15.2% 15.5%  6.0%\n",
            "\u001b[1;36m[libx264 @ 0x562966d73e00] \u001b[0mref B L0: 87.8%  9.8%  2.4%\n",
            "\u001b[1;36m[libx264 @ 0x562966d73e00] \u001b[0mref B L1: 95.6%  4.4%\n",
            "\u001b[1;36m[libx264 @ 0x562966d73e00] \u001b[0mkb/s:1869.68\n",
            "Video saved and temporary image folder removed.\n"
          ]
        }
      ]
    }
  ]
}